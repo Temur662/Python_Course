{
 "cells": [
  {
   "cell_type": "markdown",
   "metadata": {},
   "source": [
    "# CSV File Handling Assignment\n",
    "\n",
    "## Exercise 1: Basic CSV File Operations\n",
    "\n",
    "In this exercise, you'll apply basic operations on CSV files using Python's `csv` module.\n",
    "\n",
    "* **Task 1.1:** Write a Python script to create a CSV file named `students.csv` and add the following data to it:\n",
    "    - Headers: `Name`, `Age`, `Major`\n",
    "    - Rows: \n",
    "        - Alice, 24, Computer Science\n",
    "        - Bob, 22, Mathematics\n",
    "        - Charlie, 23, Physics\n",
    "    - Ensure you close the file properly after writing."
   ]
  },
  {
   "cell_type": "code",
   "execution_count": 3,
   "metadata": {},
   "outputs": [],
   "source": [
    "#task 1.1\n",
    "import csv\n",
    "data = [\n",
    "    {\"Name\": \"Alice\", \"Age\": 24, \"Major\": \"Computer Science\"},\n",
    "    {\"Name\": \"Bob\", \"Age\": 22, \"Major\": \"Mathematics\"},\n",
    "    {\"Name\": \"Charlies\", \"Age\": 23, \"Major\": \"Physics\"}\n",
    "    ]\n",
    "with open(\"Students.csv\", \"w\") as file:\n",
    "    header = [\"Name\", \"Age\", \"Major\"]\n",
    "    csvDictWriter = csv.DictWriter(file, fieldnames=header)\n",
    "    csvDictWriter.writeheader()\n",
    "    for row in data:\n",
    "        csvDictWriter.writerow(row)\n",
    "    \n"
   ]
  },
  {
   "cell_type": "markdown",
   "metadata": {},
   "source": [
    "* **Task 1.2:** Read the file `students.csv` you just created, print each row to the console."
   ]
  },
  {
   "cell_type": "code",
   "execution_count": 11,
   "metadata": {},
   "outputs": [
    {
     "name": "stdout",
     "output_type": "stream",
     "text": [
      "{'Name': 'Alice', 'Age': '24', 'Major': 'Computer Science'}\n",
      "{'Name': 'Bob', 'Age': '22', 'Major': 'Mathematics'}\n",
      "{'Name': 'Charlies', 'Age': '23', 'Major': 'Physics'}\n",
      "{'Name': 'Temur', 'Age': '19', 'Major': 'Computer Science'}\n"
     ]
    }
   ],
   "source": [
    "# Task 1.2\n",
    "with open(\"Students.csv\", \"r\") as file:\n",
    "    csvReader = csv.DictReader(file)\n",
    "    for row in csvReader:\n",
    "        print(dict(row))"
   ]
  },
  {
   "cell_type": "markdown",
   "metadata": {},
   "source": [
    "* **Task 1.3:** Append a new row with your own choice of data to `students.csv` and print the entire file content to verify the addition."
   ]
  },
  {
   "cell_type": "code",
   "execution_count": 10,
   "metadata": {},
   "outputs": [],
   "source": [
    "# Task 1.3\n",
    "newData = { \"Name\": \"Temur\", \"Age\" : 19, \"Major\": \"Computer Science\"}\n",
    "with open(\"Students.csv\", \"a\") as file:\n",
    "    csvWriter = csv.DictWriter(file, header)\n",
    "    csvWriter.writerow(newData)"
   ]
  },
  {
   "cell_type": "markdown",
   "metadata": {},
   "source": [
    "## Exercise 2: Advanced CSV Handling\n",
    "\n",
    "Let's explore more sophisticated CSV handling techniques.\n",
    "\n",
    "* **Task 2.1:** Create a CSV file `courses.csv` using a dictionary with fieldnames as `CourseID`, `CourseName`, and `Instructor`. Add at least 3 courses to the CSV and print the content of the file."
   ]
  },
  {
   "cell_type": "code",
   "execution_count": 17,
   "metadata": {},
   "outputs": [
    {
     "name": "stdout",
     "output_type": "stream",
     "text": [
      "['CourseID', 'CourseName', 'Instructor']\n",
      "['CSC382', 'Analysis of Algothims', 'Huo']\n",
      "['CSC330', 'Object Orientated Software Design', 'Anderson']\n",
      "['CSC347', 'Digital System Design Lab', 'Ali']\n"
     ]
    }
   ],
   "source": [
    "# Task 2.1\n",
    "fieldNames = [\"CourseID\", \"CourseName\", \"Instructor\"]\n",
    "data = [\n",
    "    {\"CourseID\": \"CSC382\", \"CourseName\": \"Analysis of Algothims\", \"Instructor\" : \"Huo\"},\n",
    "    {\"CourseID\": \"CSC330\", \"CourseName\": \"Object Orientated Software Design\", \"Instructor\" : \"Anderson\"},\n",
    "    {\"CourseID\": \"CSC347\", \"CourseName\": \"Digital System Design Lab\", \"Instructor\" : \"Ali\"}\n",
    "]\n",
    "with open(\"courses.csv\", \"w\") as file:\n",
    "    csvWriter = csv.DictWriter(file, fieldnames=fieldNames)\n",
    "    csvWriter.writeheader()\n",
    "    for row in data:\n",
    "        csvWriter.writerow(row)\n",
    "\n",
    "with open(\"courses.csv\", \"r\") as file:\n",
    "    csvReader = csv.reader(file)\n",
    "    for row in csvReader:\n",
    "        print(row)\n",
    "\n",
    "    "
   ]
  },
  {
   "cell_type": "markdown",
   "metadata": {},
   "source": [
    "* **Task 2.2:** Read the `courses.csv` file using `DictReader` and print each row as a dictionary."
   ]
  },
  {
   "cell_type": "code",
   "execution_count": 19,
   "metadata": {},
   "outputs": [
    {
     "name": "stdout",
     "output_type": "stream",
     "text": [
      "{'CourseID': 'CSC382', 'CourseName': 'Analysis of Algothims', 'Instructor': 'Huo'}\n",
      "{'CourseID': 'CSC330', 'CourseName': 'Object Orientated Software Design', 'Instructor': 'Anderson'}\n",
      "{'CourseID': 'CSC347', 'CourseName': 'Digital System Design Lab', 'Instructor': 'Ali'}\n"
     ]
    }
   ],
   "source": [
    "# Task 2.2\n",
    "with open(\"courses.csv\", \"r\") as file:\n",
    "    csvReader = csv.DictReader(file)\n",
    "    for row in csvReader:\n",
    "        print(dict(row))\n"
   ]
  },
  {
   "cell_type": "markdown",
   "metadata": {},
   "source": [
    "* **Task 2.3:** Modify the delimiter of your CSV writer and reader to use a semicolon (`;`) instead of a comma, create a new file `courses_semicolon.csv` and perform read/write operations. Verify by printing the content.\n"
   ]
  },
  {
   "cell_type": "code",
   "execution_count": 23,
   "metadata": {},
   "outputs": [
    {
     "name": "stdout",
     "output_type": "stream",
     "text": [
      "['CourseID\": \"CSC382\"', ' \"CourseName\": \"Analysis of Algothims\"', ' \"Instructor\" : \"Huo\"', '']\n",
      "['CourseID: \"CSC330\"', ' \"CourseName\": \"Object Orientated Software Design\"', ' \"Instructor\" : \"Anderson\"']\n",
      "['CourseID: \"CSC347\"', ' \"CourseName\": \"Digital System Design Lab\"', ' \"Instructor\" : \"Ali\"']\n"
     ]
    }
   ],
   "source": [
    "# Task 2.3\n",
    "fieldNames2 = [\"CourseID\", \"CourseName\", \"Instructor\"]\n",
    "data2 = \"\"\"CourseID\": \"CSC382\"; \"CourseName\": \"Analysis of Algothims\"; \"Instructor\" : \"Huo\";\n",
    "\"CourseID\": \"CSC330\"; \"CourseName\": \"Object Orientated Software Design\"; \"Instructor\" : \"Anderson\"\n",
    "\"CourseID\": \"CSC347\"; \"CourseName\": \"Digital System Design Lab\"; \"Instructor\" : \"Ali\"\n",
    "\"\"\"\n",
    "with open(\"courses_semicolon.csv\", \"w\") as file:\n",
    "        file.write(data2)\n",
    "\n",
    "with open(\"courses_semicolon.csv\", \"r\") as file:\n",
    "        csvReader = csv.reader(file, delimiter=\";\")\n",
    "        for row in csvReader:\n",
    "                print(row)"
   ]
  },
  {
   "cell_type": "markdown",
   "metadata": {},
   "source": [
    "## Exercise 3: Error Handling\n",
    "\n",
    "Implement error handling in file operations to manage unexpected situations.\n",
    "\n",
    "* **Task 3.1:** Attempt to read a file `nonexistent.csv` that does not exist, handle the `FileNotFoundError` to print a custom error message instead of the default traceback.\n"
   ]
  },
  {
   "cell_type": "code",
   "execution_count": 25,
   "metadata": {},
   "outputs": [
    {
     "name": "stdout",
     "output_type": "stream",
     "text": [
      "Try a diff File man!\n"
     ]
    }
   ],
   "source": [
    "# Task 3.1\n",
    "try:\n",
    "    with open(\"nonexsistent.csv\", \"r\") as file:\n",
    "        csvReader = csv.reader(file)\n",
    "        for row in csvReader:\n",
    "            print(row)\n",
    "except:\n",
    "    print(\"Try a diff File man!\")"
   ]
  },
  {
   "cell_type": "markdown",
   "metadata": {},
   "source": [
    "## Reflection\n",
    "\n",
    "Upon completion of these exercises, reflect on the following points and write a short paragraph:\n",
    "\n",
    "- Discuss the importance of using the `csv` module for handling CSV files in Python projects.\n",
    "- How does handling errors and using custom delimiters enhance the robustness and flexibility of file operations?\n",
    "- Reflect on how the assignment helped you understand the practical application of CSV file operations in real-world projects."
   ]
  }
 ],
 "metadata": {
  "kernelspec": {
   "display_name": "Python 3",
   "language": "python",
   "name": "python3"
  },
  "language_info": {
   "codemirror_mode": {
    "name": "ipython",
    "version": 3
   },
   "file_extension": ".py",
   "mimetype": "text/x-python",
   "name": "python",
   "nbconvert_exporter": "python",
   "pygments_lexer": "ipython3",
   "version": "3.12.1"
  }
 },
 "nbformat": 4,
 "nbformat_minor": 2
}
